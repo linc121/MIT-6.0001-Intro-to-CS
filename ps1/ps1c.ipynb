{
 "cells": [
  {
   "cell_type": "code",
   "execution_count": 23,
   "metadata": {},
   "outputs": [
    {
     "name": "stdout",
     "output_type": "stream",
     "text": [
      "Enter the starting salary:300000\n"
     ]
    },
    {
     "ename": "NameError",
     "evalue": "name 'portion_saved' is not defined",
     "output_type": "error",
     "traceback": [
      "\u001b[1;31m---------------------------------------------------------------------------\u001b[0m",
      "\u001b[1;31mNameError\u001b[0m                                 Traceback (most recent call last)",
      "\u001b[1;32m<ipython-input-23-19fa533ff784>\u001b[0m in \u001b[0;36m<module>\u001b[1;34m\u001b[0m\n\u001b[0;32m     14\u001b[0m     \u001b[1;32mfor\u001b[0m \u001b[0mi\u001b[0m \u001b[1;32min\u001b[0m \u001b[0mrange\u001b[0m\u001b[1;33m(\u001b[0m\u001b[0mtarget_month\u001b[0m\u001b[1;33m)\u001b[0m\u001b[1;33m:\u001b[0m\u001b[1;33m\u001b[0m\u001b[1;33m\u001b[0m\u001b[0m\n\u001b[0;32m     15\u001b[0m \u001b[1;33m\u001b[0m\u001b[0m\n\u001b[1;32m---> 16\u001b[1;33m         \u001b[0mcurrent_savings\u001b[0m\u001b[1;33m=\u001b[0m\u001b[0mcurrent_savings\u001b[0m\u001b[1;33m+\u001b[0m\u001b[0mmonthly_salary\u001b[0m\u001b[1;33m*\u001b[0m\u001b[1;33m(\u001b[0m\u001b[1;36m1\u001b[0m\u001b[1;33m+\u001b[0m\u001b[1;36m0.07\u001b[0m\u001b[1;33m)\u001b[0m\u001b[1;33m**\u001b[0m\u001b[1;33m(\u001b[0m\u001b[0mi\u001b[0m\u001b[1;33m//\u001b[0m\u001b[1;36m6\u001b[0m\u001b[1;33m)\u001b[0m\u001b[1;33m*\u001b[0m\u001b[0mportion_saved\u001b[0m\u001b[1;33m/\u001b[0m\u001b[1;36m10000\u001b[0m\u001b[1;33m+\u001b[0m\u001b[0mcurrent_savings\u001b[0m\u001b[1;33m*\u001b[0m\u001b[1;36m0.04\u001b[0m\u001b[1;33m/\u001b[0m\u001b[1;36m12\u001b[0m\u001b[1;33m\u001b[0m\u001b[1;33m\u001b[0m\u001b[0m\n\u001b[0m\u001b[0;32m     17\u001b[0m \u001b[1;33m\u001b[0m\u001b[0m\n\u001b[0;32m     18\u001b[0m \u001b[1;33m\u001b[0m\u001b[0m\n",
      "\u001b[1;31mNameError\u001b[0m: name 'portion_saved' is not defined"
     ]
    }
   ],
   "source": [
    "#the code is calculates the saving rate given certain conditions.\n",
    "#the code is to use bisection search methods\n",
    "\n",
    "annual_salary=float(input('Enter the starting salary:'))\n",
    "monthly_salary=annual_salary/12\n",
    "target_month=36\n",
    "\n",
    "#next function calculates the total saving in 36 months\n",
    "\n",
    "while True:\n",
    "    \n",
    "    current_savings=0\n",
    "    \n",
    "    for i in range(target_month):\n",
    "        \n",
    "        current_savings=current_savings+monthly_salary*(1+0.07)**(i//6)*portion_saved/10000+current_savings*0.04/12\n",
    "        \n",
    "    \n",
    "    \n",
    "\n",
    "\n",
    "def total_saving(portion_saved):\n",
    "    \n",
    "    current_savings=0\n",
    "    \n",
    "    for i in range(target_month):\n",
    "        \n",
    "        current_savings=current_savings+monthly_salary*(1+0.07)**(i//6)*portion_saved/10000+current_savings*0.04/12\n",
    "        \n",
    "    return current_savings\n",
    "\n",
    "\n",
    "# the following function apply bisection search to optimize the portion saved\n",
    "\n",
    "\n",
    "total_cost=1000000*0.25\n",
    "error_value=100\n",
    "\n",
    "\n",
    "def find_portion():\n",
    "\n",
    "    low_portion=0\n",
    "    high_portion=10000\n",
    "    portion_saved=(low_portion+high_portion)//2\n",
    "    step=0\n",
    "    \n",
    "    if total_saving(10000)<total_cost:\n",
    "        \n",
    "        print(\"It is not possible to pay the down payment in three years.\")  \n",
    "        \n",
    "    \n",
    "    elif total_saving(10000)==total_cost:\n",
    "    \n",
    "        print('Best savings rate: 100%')\n",
    "        \n",
    "        \n",
    "    else:\n",
    "    \n",
    "        while abs(total_saving(portion_saved)-total_cost)>=error_value: \n",
    "        \n",
    "            if total_saving(portion_saved)-total_cost>0:\n",
    "            \n",
    "                high_portion=portion_saved\n",
    "                portion_saved=(low_portion+high_portion)//2\n",
    "                \n",
    "                step+=1\n",
    "                     \n",
    "            elif total_saving(portion_saved)-total_cost<0:\n",
    "            \n",
    "                low_portion=portion_saved\n",
    "                portion_saved=(low_portion+high_portion)//2\n",
    "            \n",
    "                step+=1\n",
    "            \n",
    "        if abs(total_saving(portion_saved)-total_cost)<=error_value:\n",
    "            \n",
    "            return (portion_saved/100,step)\n",
    "        \n",
    "    \n",
    "            \n",
    "\n",
    "\n",
    "print('Best savings rate:', find_portion()[0], '%') \n",
    "print('Steps in bisection search:', find_portion()[1]) "
   ]
  },
  {
   "cell_type": "code",
   "execution_count": null,
   "metadata": {},
   "outputs": [],
   "source": []
  }
 ],
 "metadata": {
  "kernelspec": {
   "display_name": "Python 3",
   "language": "python",
   "name": "python3"
  },
  "language_info": {
   "codemirror_mode": {
    "name": "ipython",
    "version": 3
   },
   "file_extension": ".py",
   "mimetype": "text/x-python",
   "name": "python",
   "nbconvert_exporter": "python",
   "pygments_lexer": "ipython3",
   "version": "3.7.3"
  }
 },
 "nbformat": 4,
 "nbformat_minor": 2
}
