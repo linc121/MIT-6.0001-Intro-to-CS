{
 "cells": [
  {
   "cell_type": "code",
   "execution_count": 14,
   "metadata": {},
   "outputs": [
    {
     "name": "stdout",
     "output_type": "stream",
     "text": [
      "Enter your annual salary:120000\n",
      "Enter the percent of your salary to save, as a decimal:.05\n",
      "Enter the cost of your dream home:500000\n",
      "Enter the semi­annual raise, as a decimal:.03\n",
      "Number of months: 142\n"
     ]
    }
   ],
   "source": [
    "#the code calculates the # months needed to save money to pay for the downpayment considering the semi-year salary increase\n",
    "# the trick here is to apply \"//6' to gauge the semi-year and add 1 to the month after \n",
    "annual_salary=float(input('Enter your annual salary:'))\n",
    "portion_saved=float(input('Enter the percent of your salary to save, as a decimal:'))\n",
    "total_cost=float(input('Enter the cost of your dream home:'))\n",
    "semi_annual_raise=float(input('Enter the semi­annual raise, as a decimal:'))\n",
    "\n",
    "current_savings=0\n",
    "down_payment=total_cost*0.25\n",
    "monthly_salary=annual_salary/12\n",
    "month=0\n",
    "\n",
    "\n",
    "while current_savings<= down_payment:\n",
    "    current_savings=current_savings+monthly_salary*(1+semi_annual_raise)**(month//6)*portion_saved+current_savings*0.04/12\n",
    "    month+=1\n",
    "print('Number of months:', month)"
   ]
  },
  {
   "cell_type": "code",
   "execution_count": 5,
   "metadata": {},
   "outputs": [
    {
     "data": {
      "text/plain": [
       "0"
      ]
     },
     "execution_count": 5,
     "metadata": {},
     "output_type": "execute_result"
    }
   ],
   "source": [
    "5//6"
   ]
  },
  {
   "cell_type": "code",
   "execution_count": 6,
   "metadata": {},
   "outputs": [
    {
     "data": {
      "text/plain": [
       "1"
      ]
     },
     "execution_count": 6,
     "metadata": {},
     "output_type": "execute_result"
    }
   ],
   "source": [
    "6//6"
   ]
  },
  {
   "cell_type": "code",
   "execution_count": null,
   "metadata": {},
   "outputs": [],
   "source": []
  }
 ],
 "metadata": {
  "kernelspec": {
   "display_name": "Python 3",
   "language": "python",
   "name": "python3"
  },
  "language_info": {
   "codemirror_mode": {
    "name": "ipython",
    "version": 3
   },
   "file_extension": ".py",
   "mimetype": "text/x-python",
   "name": "python",
   "nbconvert_exporter": "python",
   "pygments_lexer": "ipython3",
   "version": "3.7.3"
  }
 },
 "nbformat": 4,
 "nbformat_minor": 2
}
