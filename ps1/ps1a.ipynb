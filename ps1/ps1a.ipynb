{
 "cells": [
  {
   "cell_type": "code",
   "execution_count": 35,
   "metadata": {},
   "outputs": [
    {
     "name": "stdout",
     "output_type": "stream",
     "text": [
      "Enter your annual salary:80000\n",
      "Enter the percent of your salary to save, as a decimal:.15\n",
      "Enter the cost of your dream home:500000\n",
      "Number of months: 105\n"
     ]
    }
   ],
   "source": [
    "#the code calculates the # months needed to save money to pay for the downpayment\n",
    "annual_salary=float(input('Enter your annual salary:'))\n",
    "portion_saved=float(input('Enter the percent of your salary to save, as a decimal:'))\n",
    "total_cost=float(input('Enter the cost of your dream home:'))\n",
    "current_savings=0\n",
    "down_payment=total_cost*0.25\n",
    "monthly_salary=annual_salary/12\n",
    "month=0\n",
    "\n",
    "\n",
    "while current_savings<= down_payment:\n",
    "    month+=1\n",
    "    current_savings=current_savings+monthly_salary*portion_saved+current_savings*0.04/12\n",
    "    \n",
    "print('Number of months:', month)\n"
   ]
  },
  {
   "cell_type": "code",
   "execution_count": null,
   "metadata": {},
   "outputs": [],
   "source": []
  },
  {
   "cell_type": "code",
   "execution_count": null,
   "metadata": {},
   "outputs": [],
   "source": []
  },
  {
   "cell_type": "code",
   "execution_count": null,
   "metadata": {},
   "outputs": [],
   "source": []
  }
 ],
 "metadata": {
  "kernelspec": {
   "display_name": "Python 3",
   "language": "python",
   "name": "python3"
  },
  "language_info": {
   "codemirror_mode": {
    "name": "ipython",
    "version": 3
   },
   "file_extension": ".py",
   "mimetype": "text/x-python",
   "name": "python",
   "nbconvert_exporter": "python",
   "pygments_lexer": "ipython3",
   "version": "3.7.3"
  }
 },
 "nbformat": 4,
 "nbformat_minor": 2
}
