{
 "cells": [
  {
   "cell_type": "code",
   "execution_count": 40,
   "metadata": {},
   "outputs": [
    {
     "name": "stdout",
     "output_type": "stream",
     "text": [
      "Enter the starting salary:300000\n",
      "Best savings rate: 22.05 %\n",
      "Steps in bisection search: 11\n"
     ]
    }
   ],
   "source": [
    "# this is an update for the PS1C homework\n",
    "# the previous version applied using function to calculate the saving which have to call each time in the while-loop\n",
    "# this version solved that problem by incorporate the calculation inside the while-loop\n",
    "# put the parameter low/high/step out-side the while-loop is the trick part\n",
    "\n",
    "annual_salary=float(input('Enter the starting salary:'))\n",
    "monthly_salary=annual_salary/12\n",
    "target_month=36\n",
    "down_payment=1000000*0.25\n",
    "low=0\n",
    "high=10000\n",
    "step=0\n",
    "\n",
    "\n",
    "while True:\n",
    "    \n",
    "    current_savings=0\n",
    "    portion_saved=(low+high)/2\n",
    "    epsilon = 100\n",
    "    \n",
    "    \n",
    "    for i in range(target_month):\n",
    "        \n",
    "        current_savings=current_savings+monthly_salary*(1+0.07)**(i//6)*portion_saved/10000+current_savings*0.04/12\n",
    "        \n",
    "    if abs(current_savings-down_payment)<=epsilon:\n",
    "        \n",
    "        print('Best savings rate:', '%.2f' % (portion_saved/100), '%' )\n",
    "        print('Steps in bisection search:', step )\n",
    "        \n",
    "        break\n",
    "        \n",
    "    elif abs(current_savings-down_payment)>epsilon and current_savings>down_payment:\n",
    "        \n",
    "        high=portion_saved\n",
    "        step+=1\n",
    "        \n",
    "    elif abs(current_savings-down_payment)>epsilon and current_savings<down_payment:\n",
    "        \n",
    "        low=portion_saved\n",
    "        step+=1\n",
    "        \n",
    "    if low==high:\n",
    "        \n",
    "        print('It is not possible to pay the down payment in three years.')\n",
    "        \n",
    "        break"
   ]
  },
  {
   "cell_type": "code",
   "execution_count": null,
   "metadata": {},
   "outputs": [],
   "source": []
  }
 ],
 "metadata": {
  "kernelspec": {
   "display_name": "Python 3",
   "language": "python",
   "name": "python3"
  },
  "language_info": {
   "codemirror_mode": {
    "name": "ipython",
    "version": 3
   },
   "file_extension": ".py",
   "mimetype": "text/x-python",
   "name": "python",
   "nbconvert_exporter": "python",
   "pygments_lexer": "ipython3",
   "version": "3.7.3"
  }
 },
 "nbformat": 4,
 "nbformat_minor": 2
}
