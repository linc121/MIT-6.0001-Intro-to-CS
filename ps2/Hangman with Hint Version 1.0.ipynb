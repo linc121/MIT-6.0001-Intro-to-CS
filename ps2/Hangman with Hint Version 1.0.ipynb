{
 "cells": [
  {
   "cell_type": "markdown",
   "metadata": {},
   "source": [
    "Problem 2"
   ]
  },
  {
   "cell_type": "markdown",
   "metadata": {},
   "source": [
    "Problem 1A"
   ]
  },
  {
   "cell_type": "code",
   "execution_count": 1,
   "metadata": {},
   "outputs": [],
   "source": [
    "# this function will return True if all letters in secret word are in letter guessed, otherwise return False\n",
    "def is_word_guessed(secret_word, letters_guessed):\n",
    "    if set(list(secret_word))==set(list(letters_guessed)):\n",
    "        return True\n",
    "    else:\n",
    "        return False"
   ]
  },
  {
   "cell_type": "code",
   "execution_count": 2,
   "metadata": {},
   "outputs": [
    {
     "name": "stdout",
     "output_type": "stream",
     "text": [
      "True\n"
     ]
    }
   ],
   "source": [
    "secret_word = 'apple'\n",
    "letters_guessed = ['a','p','l','e']\n",
    "print(is_word_guessed(secret_word, letters_guessed))\n"
   ]
  },
  {
   "cell_type": "markdown",
   "metadata": {},
   "source": [
    "Problem 1B"
   ]
  },
  {
   "cell_type": "code",
   "execution_count": 3,
   "metadata": {},
   "outputs": [],
   "source": [
    "# this function will return a combination of \"_\" and correct letters to show which letter guessed correctly \n",
    "def get_guessed_word (secret_word, letters_guessed):\n",
    "    test=[]\n",
    "    for sec in secret_word:\n",
    "        if sec in letters_guessed:\n",
    "            test.append(sec)\n",
    "        else:\n",
    "            test.append(\"_ \")\n",
    "    listtostr=''.join(str(ele) for ele in test)\n",
    "    return listtostr\n",
    "            "
   ]
  },
  {
   "cell_type": "code",
   "execution_count": 4,
   "metadata": {},
   "outputs": [
    {
     "name": "stdout",
     "output_type": "stream",
     "text": [
      "_ pp_ e\n"
     ]
    }
   ],
   "source": [
    "secret_word = 'apple'\n",
    "letters_guessed = ['e', 'i', 'k', 'p', 'r', 's']\n",
    "print(get_guessed_word(secret_word, letters_guessed))\n"
   ]
  },
  {
   "cell_type": "markdown",
   "metadata": {},
   "source": [
    "Problem 1C"
   ]
  },
  {
   "cell_type": "code",
   "execution_count": 5,
   "metadata": {},
   "outputs": [],
   "source": [
    "import string\n",
    "\n",
    "def get_available_letters (letters_guessed):\n",
    "    test=list(string.ascii_lowercase)\n",
    "    for l in letters_guessed:\n",
    "        if l in test:\n",
    "            test.remove(l)\n",
    "    return ''.join(str(ele) for ele in test)"
   ]
  },
  {
   "cell_type": "code",
   "execution_count": 6,
   "metadata": {},
   "outputs": [
    {
     "name": "stdout",
     "output_type": "stream",
     "text": [
      "abcdfghjlmnoqtuvwxyz\n"
     ]
    }
   ],
   "source": [
    "letters_guessed = ['e', 'i', 'k', 'p', 'r', 's']\n",
    "print (get_available_letters(letters_guessed))\n"
   ]
  },
  {
   "cell_type": "markdown",
   "metadata": {},
   "source": [
    "Problem 3"
   ]
  },
  {
   "cell_type": "code",
   "execution_count": 7,
   "metadata": {},
   "outputs": [
    {
     "name": "stdout",
     "output_type": "stream",
     "text": [
      "Loading word list from file...\n",
      "55900 words loaded.\n"
     ]
    }
   ],
   "source": [
    "import random\n",
    "\n",
    "WORDLIST_FILENAME = \"words.txt\"\n",
    "\n",
    "def load_words():\n",
    "    \"\"\"\n",
    "    Returns a list of valid words. Words are strings of lowercase letters.\n",
    "\n",
    "    Depending on the size of the word list, this function may\n",
    "    take a while to finish.\n",
    "    \"\"\"\n",
    "    print(\"Loading word list from file...\")\n",
    "    # inFile: file\n",
    "    inFile = open(WORDLIST_FILENAME, 'r')\n",
    "    # line: string\n",
    "    line = inFile.readline()\n",
    "    # wordlist: list of strings\n",
    "    wordlist = line.split()\n",
    "    print(len(wordlist), \"words loaded.\")\n",
    "    return wordlist\n",
    "\n",
    "wordlist=load_words()\n",
    "\n",
    "def choose_word(wordlist):\n",
    "    \"\"\"\n",
    "    wordlist (list): list of words (strings)\n",
    "\n",
    "    Returns a word from wordlist at random\n",
    "    \"\"\"\n",
    "    return random.choice(wordlist)"
   ]
  },
  {
   "cell_type": "code",
   "execution_count": 8,
   "metadata": {},
   "outputs": [],
   "source": [
    "def hangman():\n",
    "\n",
    "    '''the function starts up an interactive game of Hangman \n",
    "between the user and the computer. There are fout elements in game arhitecture\n",
    "1. The computer must select a word at random from the list \n",
    "2. Users start with 6 guesses\n",
    "3.start of the game, let the user know how many letters the computer's\n",
    "word contains and how many guesses s/he starts with\n",
    "4.The computer keeps track of all the letters the user has not guessed so far and\n",
    "before each turn shows the user the “remaining letters”'''\n",
    "\n",
    "    secret_word=choose_word(wordlist)\n",
    "    initial_guess_number=6\n",
    "    number_of_guess=6\n",
    "    number_of_warning=3\n",
    "    x=string.ascii_lowercase\n",
    "    guess_Letter_left=x\n",
    "    letters_guessed=[]\n",
    "    vowels=['a','e','i','o','u']\n",
    "    unique_words_number=len(set(list(secret_word)))\n",
    "    print(\"Loading word list from file...\\n55900 words loaded.\\nWelcome to the game Hangman!\")\n",
    "    print('I am thinking of a word that is',len(secret_word),'letters long.')\n",
    "    print('You have',number_of_warning,'warnings left.')\n",
    "    print('-------------')\n",
    "    \n",
    "    \n",
    "# user computer interaction\n",
    "#1.Before each guess, display how many guesses s/he has left after each guess\n",
    "#2.all the letters the user has not yet guessed\n",
    "#3.Ask the user to supply one guess at a time(with requirement)\n",
    "#4.after each guess, the user should receive feedback\n",
    "#5.display to the user the computer’s word, with guessed letters displayed and \n",
    "# unguessed letters replaced with an underscore and space (_ )\n",
    "#end of the guess, print some dashes (-----) to help separate individual\n",
    "#guesses from each other\n",
    "        \n",
    "    while number_of_guess>0:\n",
    "        while is_word_guessed(secret_word, letters_guessed)==False: \n",
    "            print('You have',number_of_guess,'guesses left.')\n",
    "            #print(letters_guessed)\n",
    "            print('Available letters:',get_available_letters(letters_guessed))\n",
    "            each_input=input(\"Please guess a letter: \").lower()\n",
    "            if str.isalpha(each_input):# set result if the input is alphabet\n",
    "                if each_input in letters_guessed: #set result if the input is duplicated\n",
    "                    if number_of_warning>0:\n",
    "                        number_of_warning-=1\n",
    "                        print('Oops! You\\'ve already guessed that letter. You now have',number_of_warning,'warnings left:',get_guessed_word(secret_word, letters_guessed))\n",
    "                        print('-------------')\n",
    "                    else: \n",
    "                        number_of_guess-=1\n",
    "                        print('Oops! You\\'ve already guessed that letter. You have no warnings left so you lose one guess:',get_guessed_word(secret_word, letters_guessed))\n",
    "                        print('-------------')\n",
    "                        if number_of_guess<=0:\n",
    "                            print('Sorry, you lost the game... the word is',secret_word)\n",
    "                            break\n",
    "                else:        \n",
    "                    if each_input in secret_word:\n",
    "                        letters_guessed.append(each_input)\n",
    "                        if get_guessed_word(secret_word, letters_guessed)==secret_word:\n",
    "                            total_score=unique_words_number*number_of_guess           \n",
    "                            print('Congratulations, you won!')\n",
    "                            print('Your total score for this game is:',total_score)\n",
    "                            break\n",
    "                        else:\n",
    "                            print('Good guess:',get_guessed_word(secret_word, letters_guessed)) \n",
    "                            print('-------------') \n",
    "                        \n",
    "                    else:\n",
    "                        if each_input in vowels:\n",
    "                            number_of_guess-=2\n",
    "                            letters_guessed.append(each_input)\n",
    "                            print('Oops! That letter is not in my word:',get_guessed_word(secret_word, letters_guessed))\n",
    "                            print('-------------')\n",
    "                            if number_of_guess<=0:\n",
    "                                print('Sorry, you lost the game... the word is',secret_word)\n",
    "                                break\n",
    "                        else:\n",
    "                            number_of_guess-=1\n",
    "                            letters_guessed.append(each_input)\n",
    "                            print('Oops! That letter is not in my word:',get_guessed_word(secret_word, letters_guessed))                        \n",
    "                            print('-------------')\n",
    "                            if number_of_guess<=0:\n",
    "                                print('Sorry, you lost the game... the word is',secret_word)\n",
    "                                break\n",
    "            else: # set the result if the input is not alphabet\n",
    "                if number_of_warning>0:\n",
    "                    number_of_warning-=1\n",
    "                    print('Oops! That is not a valid letter. You have',number_of_warning,'warnings left:',get_guessed_word(secret_word, letters_guessed)) \n",
    "                    print('-------------')\n",
    "                else:\n",
    "                    number_of_guess-=1\n",
    "                    print('Oops! That is not a valid letter. You have no warnings left so you lose one guess:',get_guessed_word(secret_word, letters_guessed))\n",
    "                    print('-------------')\n",
    "                    if number_of_guess<=0:\n",
    "                        print('Sorry, you lost the game... the word is',secret_word)\n",
    "                        break\n",
    "        else:\n",
    "            continue\n",
    "        break\n",
    "    "
   ]
  },
  {
   "cell_type": "code",
   "execution_count": 9,
   "metadata": {},
   "outputs": [],
   "source": [
    "#hangman()"
   ]
  },
  {
   "cell_type": "code",
   "execution_count": 10,
   "metadata": {},
   "outputs": [],
   "source": [
    "def match_with_gaps(my_word,other_word):\n",
    "    ''' the function is to macth the guessed word with the secret word, the tricky part is the \"_ \" can represent different \n",
    "    alphabet so that you have to change the other_word. Also, the word you guessed can't be unshown, like in the following \n",
    "    test case 4''' \n",
    "    \n",
    "    my_word=list(my_word.replace(\"_ \",\"_\"))\n",
    "    other_word=list(other_word)\n",
    "    \n",
    "    if len(my_word)!=len(other_word): # use length as the first defence\n",
    "        return False\n",
    "    \n",
    "    else:\n",
    "        for i in range(len(my_word)):\n",
    "            if my_word[i]==other_word[i] and my_word.count(my_word[i])!=other_word.count(my_word[i]):\n",
    "                return False\n",
    "        \n",
    "    for k in range(len(my_word)):\n",
    "        if my_word[k]==\"_\":\n",
    "            other_word[k]=\"_\"\n",
    "    if my_word==other_word:\n",
    "        return True\n",
    "    else:\n",
    "        return False\n",
    "    "
   ]
  },
  {
   "cell_type": "code",
   "execution_count": 11,
   "metadata": {},
   "outputs": [
    {
     "name": "stdout",
     "output_type": "stream",
     "text": [
      "False\n"
     ]
    }
   ],
   "source": [
    "print(match_with_gaps(\"te_ t\", \"tact\"))"
   ]
  },
  {
   "cell_type": "code",
   "execution_count": 12,
   "metadata": {},
   "outputs": [
    {
     "name": "stdout",
     "output_type": "stream",
     "text": [
      "False\n"
     ]
    }
   ],
   "source": [
    "print(match_with_gaps(\"a_ _ le\", \"banana\"))"
   ]
  },
  {
   "cell_type": "code",
   "execution_count": 13,
   "metadata": {},
   "outputs": [
    {
     "name": "stdout",
     "output_type": "stream",
     "text": [
      "True\n"
     ]
    }
   ],
   "source": [
    "print(match_with_gaps(\"a_ _ le\", \"apple\"))"
   ]
  },
  {
   "cell_type": "code",
   "execution_count": 14,
   "metadata": {},
   "outputs": [
    {
     "name": "stdout",
     "output_type": "stream",
     "text": [
      "False\n"
     ]
    }
   ],
   "source": [
    "print(match_with_gaps(\"a_ ple\", \"apple\"))"
   ]
  },
  {
   "cell_type": "code",
   "execution_count": 15,
   "metadata": {},
   "outputs": [],
   "source": [
    "def show_possible_matches(my_word):\n",
    "    test=[]\n",
    "    for words in wordlist:\n",
    "        if match_with_gaps(my_word,words):\n",
    "            test.append(words)\n",
    "    if test==[]:\n",
    "        print('No matches found')\n",
    "    else:\n",
    "        return test"
   ]
  },
  {
   "cell_type": "code",
   "execution_count": 16,
   "metadata": {},
   "outputs": [
    {
     "data": {
      "text/plain": [
       "['tact',\n",
       " 'tart',\n",
       " 'taut',\n",
       " 'teat',\n",
       " 'tent',\n",
       " 'test',\n",
       " 'text',\n",
       " 'that',\n",
       " 'tilt',\n",
       " 'tint',\n",
       " 'toot',\n",
       " 'tort',\n",
       " 'tout',\n",
       " 'trot',\n",
       " 'tuft',\n",
       " 'twit']"
      ]
     },
     "execution_count": 16,
     "metadata": {},
     "output_type": "execute_result"
    }
   ],
   "source": [
    "show_possible_matches(\"t_ _ t\")"
   ]
  },
  {
   "cell_type": "code",
   "execution_count": 17,
   "metadata": {},
   "outputs": [
    {
     "data": {
      "text/plain": [
       "['ample', 'amply']"
      ]
     },
     "execution_count": 17,
     "metadata": {},
     "output_type": "execute_result"
    }
   ],
   "source": [
    "show_possible_matches(\"a_ pl_ \")"
   ]
  },
  {
   "cell_type": "code",
   "execution_count": 18,
   "metadata": {},
   "outputs": [
    {
     "name": "stdout",
     "output_type": "stream",
     "text": [
      "No matches found\n"
     ]
    }
   ],
   "source": [
    "show_possible_matches(\"abbbb_ \") "
   ]
  },
  {
   "cell_type": "code",
   "execution_count": 20,
   "metadata": {},
   "outputs": [],
   "source": [
    "def hangman_with_hints():\n",
    "\n",
    "    '''the function update the previous version with hint function'''\n",
    "\n",
    "    secret_word='apple'\n",
    "    initial_guess_number=6\n",
    "    number_of_guess=6\n",
    "    number_of_warning=3\n",
    "    x=string.ascii_lowercase\n",
    "    guess_Letter_left=x\n",
    "    letters_guessed=[]\n",
    "    vowels=['a','e','i','o','u']\n",
    "    unique_words_number=len(set(list(secret_word)))\n",
    "    print(\"Loading word list from file...\\n55900 words loaded.\\nWelcome to the game Hangman!\")\n",
    "    print('I am thinking of a word that is',len(secret_word),'letters long.')\n",
    "    print('You have',number_of_warning,'warnings left.')\n",
    "    print('-------------')\n",
    "    \n",
    "    \n",
    "# user computer interaction\n",
    "#1.Before each guess, display how many guesses s/he has left after each guess\n",
    "#2.all the letters the user has not yet guessed\n",
    "#3.Ask the user to supply one guess at a time(with requirement)\n",
    "#4.after each guess, the user should receive feedback\n",
    "#5.display to the user the computer’s word, with guessed letters displayed and \n",
    "# unguessed letters replaced with an underscore and space (_ )\n",
    "#end of the guess, print some dashes (-----) to help separate individual\n",
    "#guesses from each other\n",
    "        \n",
    "    while number_of_guess>0:\n",
    "        while is_word_guessed(secret_word, letters_guessed)==False: \n",
    "            print('You have',number_of_guess,'guesses left.')\n",
    "            #print(letters_guessed)\n",
    "            print('Available letters:',get_available_letters(letters_guessed))\n",
    "            each_input=input(\"Please guess a letter: \").lower()\n",
    "            if str.isalpha(each_input):# set result if the input is alphabet\n",
    "                if each_input in letters_guessed: #set result if the input is duplicated\n",
    "                    if number_of_warning>0:\n",
    "                        number_of_warning-=1\n",
    "                        print('Oops! You\\'ve already guessed that letter. You now have',number_of_warning,'warnings left:',get_guessed_word(secret_word, letters_guessed))\n",
    "                        print('-------------')\n",
    "                    else: \n",
    "                        number_of_guess-=1\n",
    "                        print('Oops! You\\'ve already guessed that letter. You have no warnings left so you lose one guess:',get_guessed_word(secret_word, letters_guessed))\n",
    "                        print('-------------')\n",
    "                        if number_of_guess<=0:\n",
    "                            print('Sorry, you lost the game... the word is',secret_word)\n",
    "                            break\n",
    "                else:        \n",
    "                    if each_input in secret_word:\n",
    "                        letters_guessed.append(each_input)\n",
    "                        if get_guessed_word(secret_word, letters_guessed)==secret_word:\n",
    "                            total_score=unique_words_number*number_of_guess           \n",
    "                            print('Congratulations, you won!')\n",
    "                            print('Your total score for this game is:',total_score)\n",
    "                            break\n",
    "                        else:\n",
    "                            print('Good guess:',get_guessed_word(secret_word, letters_guessed)) \n",
    "                            print('-------------') \n",
    "                        \n",
    "                    else:\n",
    "                        if each_input in vowels:\n",
    "                            number_of_guess-=2\n",
    "                            letters_guessed.append(each_input)\n",
    "                            print('Oops! That letter is not in my word:',get_guessed_word(secret_word, letters_guessed))\n",
    "                            print('-------------')\n",
    "                            if number_of_guess<=0:\n",
    "                                print('Sorry, you lost the game... the word is',secret_word)\n",
    "                                break\n",
    "                        else:\n",
    "                            number_of_guess-=1\n",
    "                            letters_guessed.append(each_input)\n",
    "                            print('Oops! That letter is not in my word:',get_guessed_word(secret_word, letters_guessed))                        \n",
    "                            print('-------------')\n",
    "                            if number_of_guess<=0:\n",
    "                                print('Sorry, you lost the game... the word is',secret_word)\n",
    "                                break\n",
    "            \n",
    "            elif each_input == '*':\n",
    "                print('Possible word matches are:',show_possible_matches(get_guessed_word(secret_word, letters_guessed)))\n",
    "            else:\n",
    "                if number_of_warning>0:\n",
    "                    number_of_warning-=1\n",
    "                    print('Oops! That is not a valid letter. You have',number_of_warning,'warnings left:',get_guessed_word(secret_word, letters_guessed)) \n",
    "                    print('-------------')\n",
    "                else:\n",
    "                    number_of_guess-=1\n",
    "                    print('Oops! That is not a valid letter. You have no warnings left so you lose one guess:',get_guessed_word(secret_word, letters_guessed))\n",
    "                    print('-------------')\n",
    "                    if number_of_guess<=0:\n",
    "                        print('Sorry, you lost the game... the word is',secret_word)\n",
    "                        break\n",
    "        else:\n",
    "            continue\n",
    "        break\n",
    "    "
   ]
  },
  {
   "cell_type": "code",
   "execution_count": null,
   "metadata": {},
   "outputs": [
    {
     "name": "stdout",
     "output_type": "stream",
     "text": [
      "Loading word list from file...\n",
      "55900 words loaded.\n",
      "Welcome to the game Hangman!\n",
      "I am thinking of a word that is 5 letters long.\n",
      "You have 3 warnings left.\n",
      "-------------\n",
      "You have 6 guesses left.\n",
      "Available letters: abcdefghijklmnopqrstuvwxyz\n",
      "Please guess a letter: a\n",
      "Good guess: a_ _ _ _ \n",
      "-------------\n",
      "You have 6 guesses left.\n",
      "Available letters: bcdefghijklmnopqrstuvwxyz\n",
      "Please guess a letter: l\n",
      "Good guess: a_ _ l_ \n",
      "-------------\n",
      "You have 6 guesses left.\n",
      "Available letters: bcdefghijkmnopqrstuvwxyz\n",
      "Please guess a letter: *\n",
      "Possible word matches are: ['addle', 'adult', 'agile', 'aisle', 'amble', 'ample', 'amply', 'amyls', 'angle', 'ankle', 'apple', 'apply', 'aptly', 'arils', 'atilt']\n",
      "You have 6 guesses left.\n",
      "Available letters: bcdefghijkmnopqrstuvwxyz\n",
      "Please guess a letter: e\n",
      "Good guess: a_ _ le\n",
      "-------------\n",
      "You have 6 guesses left.\n",
      "Available letters: bcdfghijkmnopqrstuvwxyz\n"
     ]
    }
   ],
   "source": [
    "hangman_with_hints()"
   ]
  },
  {
   "cell_type": "code",
   "execution_count": null,
   "metadata": {},
   "outputs": [],
   "source": []
  }
 ],
 "metadata": {
  "kernelspec": {
   "display_name": "Python 3",
   "language": "python",
   "name": "python3"
  },
  "language_info": {
   "codemirror_mode": {
    "name": "ipython",
    "version": 3
   },
   "file_extension": ".py",
   "mimetype": "text/x-python",
   "name": "python",
   "nbconvert_exporter": "python",
   "pygments_lexer": "ipython3",
   "version": "3.7.3"
  }
 },
 "nbformat": 4,
 "nbformat_minor": 2
}
